{
 "cells": [
  {
   "cell_type": "markdown",
   "metadata": {},
   "source": [
    "# Phase1, Project"
   ]
  },
  {
   "cell_type": "markdown",
   "metadata": {},
   "source": [
    "Project by: Joy Gitau"
   ]
  },
  {
   "cell_type": "markdown",
   "metadata": {},
   "source": [
    "# Analysis of Aviation Accident Data: Identifying Low-Risk Aircraft\n",
    "\n",
    "## Introduction\n",
    "As our company expands into the aviation industry, it is essential to assess the risks associated with purchasing and operating various aircraft. This project aims to analyze a comprehensive dataset of aviation accidents from 1962 to 2023, sourced from the National Transportation Safety Board (NTSB). By examining this data, we will identify trends, risk factors, and ultimately recommend the aircraft types that present the lowest risk for our new business venture in commercial and private aviation.\n"
   ]
  },
  {
   "cell_type": "markdown",
   "metadata": {},
   "source": [
    "## Project Goals\n",
    "\n",
    "The primary goal of this project is to analyze aviation accident data to identify low-risk aircraft for purchase and operation. To achieve this, we will focus on the following key questions:\n",
    "\n",
    "\n",
    "1. Which aircraft types have historically recorded the highest and fewest accidents?\n",
    "2. What trends can be observed over time regarding aviation accidents?\n",
    "3. Are there specific risk factors that correlate with higher accident rates?\n",
    "4. How can our findings inform decision-making for aircraft purchases?\n",
    "\n",
    "Through this analysis, we aim to provide actionable insights that will guide the aviation division in making informed investment decisions.\n"
   ]
  },
  {
   "cell_type": "markdown",
   "metadata": {},
   "source": [
    "## Data Understanding"
   ]
  },
  {
   "cell_type": "markdown",
   "metadata": {},
   "source": [
    "We are working with a version of the Aviation Accident & Synopses, which can be found on [Kaggle](https://www.kaggle.com/datasets/khsamaha/aviation-accident-database-synopses) and was originally from the National Transportation Safety Board that includes aviation accident data from 1962 to 2023 about civil aviation accidents and selected incidents in the United States and international waters. Note that this data from 1962 up to 2023, so it may not reflect the most up-to-date aviation accidents.\n",
    "\n",
    "The data contained is a CSV file named AviationData.csv: each record represents an aviation accident/incident."
   ]
  },
  {
   "cell_type": "markdown",
   "metadata": {},
   "source": [
    "### Importing Libraries & Loading the Data"
   ]
  },
  {
   "cell_type": "markdown",
   "metadata": {},
   "source": [
    "In the cells below, we'll start by importing the necessary libraries that will be used in this notebook with their aliases as well as loading the files to a data frame `aviation_data`. We will create a copy and name it `df` which we will be working on. "
   ]
  },
  {
   "cell_type": "code",
   "execution_count": 1,
   "metadata": {},
   "outputs": [],
   "source": [
    "#we'll start by importing the necessary libraries that will be used in this notebook\n",
    "import pandas as pd\n",
    "import numpy as np\n",
    "import seaborn as sns\n",
    "import matplotlib.pyplot as plt\n",
    "%matplotlib inline"
   ]
  },
  {
   "cell_type": "code",
   "execution_count": 2,
   "metadata": {},
   "outputs": [
    {
     "data": {
      "text/html": [
       "<div>\n",
       "<style scoped>\n",
       "    .dataframe tbody tr th:only-of-type {\n",
       "        vertical-align: middle;\n",
       "    }\n",
       "\n",
       "    .dataframe tbody tr th {\n",
       "        vertical-align: top;\n",
       "    }\n",
       "\n",
       "    .dataframe thead th {\n",
       "        text-align: right;\n",
       "    }\n",
       "</style>\n",
       "<table border=\"1\" class=\"dataframe\">\n",
       "  <thead>\n",
       "    <tr style=\"text-align: right;\">\n",
       "      <th></th>\n",
       "      <th>Event.Id</th>\n",
       "      <th>Investigation.Type</th>\n",
       "      <th>Accident.Number</th>\n",
       "      <th>Event.Date</th>\n",
       "      <th>Location</th>\n",
       "      <th>Country</th>\n",
       "      <th>Latitude</th>\n",
       "      <th>Longitude</th>\n",
       "      <th>Airport.Code</th>\n",
       "      <th>Airport.Name</th>\n",
       "      <th>...</th>\n",
       "      <th>Purpose.of.flight</th>\n",
       "      <th>Air.carrier</th>\n",
       "      <th>Total.Fatal.Injuries</th>\n",
       "      <th>Total.Serious.Injuries</th>\n",
       "      <th>Total.Minor.Injuries</th>\n",
       "      <th>Total.Uninjured</th>\n",
       "      <th>Weather.Condition</th>\n",
       "      <th>Broad.phase.of.flight</th>\n",
       "      <th>Report.Status</th>\n",
       "      <th>Publication.Date</th>\n",
       "    </tr>\n",
       "  </thead>\n",
       "  <tbody>\n",
       "    <tr>\n",
       "      <th>0</th>\n",
       "      <td>20001218X45444</td>\n",
       "      <td>Accident</td>\n",
       "      <td>SEA87LA080</td>\n",
       "      <td>1948-10-24</td>\n",
       "      <td>MOOSE CREEK, ID</td>\n",
       "      <td>United States</td>\n",
       "      <td>NaN</td>\n",
       "      <td>NaN</td>\n",
       "      <td>NaN</td>\n",
       "      <td>NaN</td>\n",
       "      <td>...</td>\n",
       "      <td>Personal</td>\n",
       "      <td>NaN</td>\n",
       "      <td>2.0</td>\n",
       "      <td>0.0</td>\n",
       "      <td>0.0</td>\n",
       "      <td>0.0</td>\n",
       "      <td>UNK</td>\n",
       "      <td>Cruise</td>\n",
       "      <td>Probable Cause</td>\n",
       "      <td>NaN</td>\n",
       "    </tr>\n",
       "    <tr>\n",
       "      <th>1</th>\n",
       "      <td>20001218X45447</td>\n",
       "      <td>Accident</td>\n",
       "      <td>LAX94LA336</td>\n",
       "      <td>1962-07-19</td>\n",
       "      <td>BRIDGEPORT, CA</td>\n",
       "      <td>United States</td>\n",
       "      <td>NaN</td>\n",
       "      <td>NaN</td>\n",
       "      <td>NaN</td>\n",
       "      <td>NaN</td>\n",
       "      <td>...</td>\n",
       "      <td>Personal</td>\n",
       "      <td>NaN</td>\n",
       "      <td>4.0</td>\n",
       "      <td>0.0</td>\n",
       "      <td>0.0</td>\n",
       "      <td>0.0</td>\n",
       "      <td>UNK</td>\n",
       "      <td>Unknown</td>\n",
       "      <td>Probable Cause</td>\n",
       "      <td>19-09-1996</td>\n",
       "    </tr>\n",
       "    <tr>\n",
       "      <th>2</th>\n",
       "      <td>20061025X01555</td>\n",
       "      <td>Accident</td>\n",
       "      <td>NYC07LA005</td>\n",
       "      <td>1974-08-30</td>\n",
       "      <td>Saltville, VA</td>\n",
       "      <td>United States</td>\n",
       "      <td>36.922223</td>\n",
       "      <td>-81.878056</td>\n",
       "      <td>NaN</td>\n",
       "      <td>NaN</td>\n",
       "      <td>...</td>\n",
       "      <td>Personal</td>\n",
       "      <td>NaN</td>\n",
       "      <td>3.0</td>\n",
       "      <td>NaN</td>\n",
       "      <td>NaN</td>\n",
       "      <td>NaN</td>\n",
       "      <td>IMC</td>\n",
       "      <td>Cruise</td>\n",
       "      <td>Probable Cause</td>\n",
       "      <td>26-02-2007</td>\n",
       "    </tr>\n",
       "    <tr>\n",
       "      <th>3</th>\n",
       "      <td>20001218X45448</td>\n",
       "      <td>Accident</td>\n",
       "      <td>LAX96LA321</td>\n",
       "      <td>1977-06-19</td>\n",
       "      <td>EUREKA, CA</td>\n",
       "      <td>United States</td>\n",
       "      <td>NaN</td>\n",
       "      <td>NaN</td>\n",
       "      <td>NaN</td>\n",
       "      <td>NaN</td>\n",
       "      <td>...</td>\n",
       "      <td>Personal</td>\n",
       "      <td>NaN</td>\n",
       "      <td>2.0</td>\n",
       "      <td>0.0</td>\n",
       "      <td>0.0</td>\n",
       "      <td>0.0</td>\n",
       "      <td>IMC</td>\n",
       "      <td>Cruise</td>\n",
       "      <td>Probable Cause</td>\n",
       "      <td>12-09-2000</td>\n",
       "    </tr>\n",
       "    <tr>\n",
       "      <th>4</th>\n",
       "      <td>20041105X01764</td>\n",
       "      <td>Accident</td>\n",
       "      <td>CHI79FA064</td>\n",
       "      <td>1979-08-02</td>\n",
       "      <td>Canton, OH</td>\n",
       "      <td>United States</td>\n",
       "      <td>NaN</td>\n",
       "      <td>NaN</td>\n",
       "      <td>NaN</td>\n",
       "      <td>NaN</td>\n",
       "      <td>...</td>\n",
       "      <td>Personal</td>\n",
       "      <td>NaN</td>\n",
       "      <td>1.0</td>\n",
       "      <td>2.0</td>\n",
       "      <td>NaN</td>\n",
       "      <td>0.0</td>\n",
       "      <td>VMC</td>\n",
       "      <td>Approach</td>\n",
       "      <td>Probable Cause</td>\n",
       "      <td>16-04-1980</td>\n",
       "    </tr>\n",
       "  </tbody>\n",
       "</table>\n",
       "<p>5 rows × 31 columns</p>\n",
       "</div>"
      ],
      "text/plain": [
       "         Event.Id Investigation.Type Accident.Number  Event.Date  \\\n",
       "0  20001218X45444           Accident      SEA87LA080  1948-10-24   \n",
       "1  20001218X45447           Accident      LAX94LA336  1962-07-19   \n",
       "2  20061025X01555           Accident      NYC07LA005  1974-08-30   \n",
       "3  20001218X45448           Accident      LAX96LA321  1977-06-19   \n",
       "4  20041105X01764           Accident      CHI79FA064  1979-08-02   \n",
       "\n",
       "          Location        Country   Latitude   Longitude Airport.Code  \\\n",
       "0  MOOSE CREEK, ID  United States        NaN         NaN          NaN   \n",
       "1   BRIDGEPORT, CA  United States        NaN         NaN          NaN   \n",
       "2    Saltville, VA  United States  36.922223  -81.878056          NaN   \n",
       "3       EUREKA, CA  United States        NaN         NaN          NaN   \n",
       "4       Canton, OH  United States        NaN         NaN          NaN   \n",
       "\n",
       "  Airport.Name  ... Purpose.of.flight Air.carrier Total.Fatal.Injuries  \\\n",
       "0          NaN  ...          Personal         NaN                  2.0   \n",
       "1          NaN  ...          Personal         NaN                  4.0   \n",
       "2          NaN  ...          Personal         NaN                  3.0   \n",
       "3          NaN  ...          Personal         NaN                  2.0   \n",
       "4          NaN  ...          Personal         NaN                  1.0   \n",
       "\n",
       "  Total.Serious.Injuries Total.Minor.Injuries Total.Uninjured  \\\n",
       "0                    0.0                  0.0             0.0   \n",
       "1                    0.0                  0.0             0.0   \n",
       "2                    NaN                  NaN             NaN   \n",
       "3                    0.0                  0.0             0.0   \n",
       "4                    2.0                  NaN             0.0   \n",
       "\n",
       "  Weather.Condition  Broad.phase.of.flight   Report.Status Publication.Date  \n",
       "0               UNK                 Cruise  Probable Cause              NaN  \n",
       "1               UNK                Unknown  Probable Cause       19-09-1996  \n",
       "2               IMC                 Cruise  Probable Cause       26-02-2007  \n",
       "3               IMC                 Cruise  Probable Cause       12-09-2000  \n",
       "4               VMC               Approach  Probable Cause       16-04-1980  \n",
       "\n",
       "[5 rows x 31 columns]"
      ]
     },
     "execution_count": 2,
     "metadata": {},
     "output_type": "execute_result"
    }
   ],
   "source": [
    "#reading & loading the csv data to a data frame\n",
    "aviation_data = pd.read_csv('AviationData.csv', encoding='latin1', low_memory=False)\n",
    "\n",
    "#making a copy of the original data and assigning the copy to the name df\n",
    "df = aviation_data.copy()\n",
    "\n",
    "#preview the first 5 rows of our data\n",
    "df.head()"
   ]
  },
  {
   "cell_type": "markdown",
   "metadata": {},
   "source": [
    "### Understanding the data structure"
   ]
  },
  {
   "cell_type": "markdown",
   "metadata": {},
   "source": [
    "Here we want to understand the kind of dataframe in `df` we are handling by inspect the overall information in the dataframe:"
   ]
  },
  {
   "cell_type": "code",
   "execution_count": 3,
   "metadata": {},
   "outputs": [
    {
     "name": "stdout",
     "output_type": "stream",
     "text": [
      "<class 'pandas.core.frame.DataFrame'>\n",
      "RangeIndex: 88889 entries, 0 to 88888\n",
      "Data columns (total 31 columns):\n",
      " #   Column                  Non-Null Count  Dtype  \n",
      "---  ------                  --------------  -----  \n",
      " 0   Event.Id                88889 non-null  object \n",
      " 1   Investigation.Type      88889 non-null  object \n",
      " 2   Accident.Number         88889 non-null  object \n",
      " 3   Event.Date              88889 non-null  object \n",
      " 4   Location                88837 non-null  object \n",
      " 5   Country                 88663 non-null  object \n",
      " 6   Latitude                34382 non-null  object \n",
      " 7   Longitude               34373 non-null  object \n",
      " 8   Airport.Code            50249 non-null  object \n",
      " 9   Airport.Name            52790 non-null  object \n",
      " 10  Injury.Severity         87889 non-null  object \n",
      " 11  Aircraft.damage         85695 non-null  object \n",
      " 12  Aircraft.Category       32287 non-null  object \n",
      " 13  Registration.Number     87572 non-null  object \n",
      " 14  Make                    88826 non-null  object \n",
      " 15  Model                   88797 non-null  object \n",
      " 16  Amateur.Built           88787 non-null  object \n",
      " 17  Number.of.Engines       82805 non-null  float64\n",
      " 18  Engine.Type             81812 non-null  object \n",
      " 19  FAR.Description         32023 non-null  object \n",
      " 20  Schedule                12582 non-null  object \n",
      " 21  Purpose.of.flight       82697 non-null  object \n",
      " 22  Air.carrier             16648 non-null  object \n",
      " 23  Total.Fatal.Injuries    77488 non-null  float64\n",
      " 24  Total.Serious.Injuries  76379 non-null  float64\n",
      " 25  Total.Minor.Injuries    76956 non-null  float64\n",
      " 26  Total.Uninjured         82977 non-null  float64\n",
      " 27  Weather.Condition       84397 non-null  object \n",
      " 28  Broad.phase.of.flight   61724 non-null  object \n",
      " 29  Report.Status           82508 non-null  object \n",
      " 30  Publication.Date        75118 non-null  object \n",
      "dtypes: float64(5), object(26)\n",
      "memory usage: 21.0+ MB\n"
     ]
    }
   ],
   "source": [
    "#let's see the basic structure of our data\n",
    "df.info()"
   ]
  },
  {
   "cell_type": "markdown",
   "metadata": {},
   "source": [
    "We can see that our data consists of 88889 rows and 31 columns. The columns consist of string values(26 columns) and float values(5 columns) and we can see all the column names above."
   ]
  },
  {
   "cell_type": "markdown",
   "metadata": {},
   "source": [
    "## Data Preparation"
   ]
  },
  {
   "cell_type": "markdown",
   "metadata": {},
   "source": [
    "### Identifying Missing Values"
   ]
  },
  {
   "cell_type": "markdown",
   "metadata": {},
   "source": [
    "We'll start by checking for duplicate rows and missing values(NaN values) in our Data Frame "
   ]
  },
  {
   "cell_type": "code",
   "execution_count": 4,
   "metadata": {
    "scrolled": true
   },
   "outputs": [
    {
     "name": "stdout",
     "output_type": "stream",
     "text": [
      "There are: 0 duplicates in df\n",
      "missing data in our data frame= 564742\n"
     ]
    },
    {
     "data": {
      "text/plain": [
       "Event.Id                      0\n",
       "Investigation.Type            0\n",
       "Accident.Number               0\n",
       "Event.Date                    0\n",
       "Location                     52\n",
       "Make                         63\n",
       "Model                        92\n",
       "Amateur.Built               102\n",
       "Country                     226\n",
       "Injury.Severity            1000\n",
       "Registration.Number        1317\n",
       "Aircraft.damage            3194\n",
       "Weather.Condition          4492\n",
       "Total.Uninjured            5912\n",
       "Number.of.Engines          6084\n",
       "Purpose.of.flight          6192\n",
       "Report.Status              6381\n",
       "Engine.Type                7077\n",
       "Total.Fatal.Injuries      11401\n",
       "Total.Minor.Injuries      11933\n",
       "Total.Serious.Injuries    12510\n",
       "Publication.Date          13771\n",
       "Broad.phase.of.flight     27165\n",
       "Airport.Name              36099\n",
       "Airport.Code              38640\n",
       "Latitude                  54507\n",
       "Longitude                 54516\n",
       "Aircraft.Category         56602\n",
       "FAR.Description           56866\n",
       "Air.carrier               72241\n",
       "Schedule                  76307\n",
       "dtype: int64"
      ]
     },
     "execution_count": 4,
     "metadata": {},
     "output_type": "execute_result"
    }
   ],
   "source": [
    "#checking for duplicates in the data\n",
    "print('There are:', df.duplicated().sum(), 'duplicates in df')\n",
    "\n",
    "#checking how many the NaN values we have in the data and in each column\n",
    "print('missing data in our data frame=', df.isna().sum().sum())\n",
    "df.isna().sum().sort_values()"
   ]
  },
  {
   "cell_type": "markdown",
   "metadata": {},
   "source": [
    "We can see that here are no duplicate rows in our data but there are numerous missing values.\n",
    "There are Only 4 out of the 31 columns in our `df` that have 0 NaN values. We have very many missing values.\n",
    "\n",
    "### Handling Missing Values"
   ]
  },
  {
   "cell_type": "markdown",
   "metadata": {},
   "source": [
    "What strategy will we use to deal with our missing values?\n",
    "\n",
    "Since our company is specifically interested in purchasing and operating *airplanes* for commercial and private enterprises only, let's start by filter our data to contain only values where the `Aircraft.Category` is `Airplane` or `NaN` and drop the rest of the rows. I will also replace the `NaN`s with `Unknown`."
   ]
  },
  {
   "cell_type": "code",
   "execution_count": 5,
   "metadata": {},
   "outputs": [],
   "source": [
    "#deleting all rows where Aircraft.Category is not Airplanes or NaN's\n",
    "df = df[(df['Aircraft.Category'] == 'Airplane') | (df['Aircraft.Category'].isna())]"
   ]
  },
  {
   "cell_type": "markdown",
   "metadata": {},
   "source": [
    "Since the our data frame contains quite a number of missing values, We can also delete the entire rows for the columns with a small percentage of missing values."
   ]
  },
  {
   "cell_type": "code",
   "execution_count": 6,
   "metadata": {},
   "outputs": [],
   "source": [
    "# Deleting the rows associated with the columns with less than 5% of missing data\n",
    "df = df.dropna(subset=['Location', 'Make', 'Model', 'Amateur.Built', 'Country',\n",
    "       'Injury.Severity', 'Aircraft.damage'], \n",
    "          how='any')"
   ]
  },
  {
   "cell_type": "markdown",
   "metadata": {},
   "source": [
    "Some columns such as 'Event.Id', 'Registration.Number', 'Report.Status' and 'Publication.Date' are not essential for our analysis, we'll delete them in order to remain with only essential columns and Drop columns that have a significant amount of missing data if they are not essential as well."
   ]
  },
  {
   "cell_type": "code",
   "execution_count": 7,
   "metadata": {},
   "outputs": [],
   "source": [
    "# deleting columns that are not essential and those with large numbers of missing values\n",
    "df = df.drop(columns=['Event.Id', 'Registration.Number', 'Report.Status', 'Publication.Date', \n",
    "                      'Airport.Name', 'Airport.Code', 'Latitude', 'Longitude', 'FAR.Description',\n",
    "                      'Air.carrier', 'Schedule'])"
   ]
  },
  {
   "cell_type": "markdown",
   "metadata": {},
   "source": [
    "Fill missing values with appropriate methods (mean, median, mode, or a placeholder).\n",
    "for instance, I noticed that the values in `Injury.Severity` and `Total.Fatal.Injuries` appear to have some sort of similarity, let's take a closer look at both columns:"
   ]
  },
  {
   "cell_type": "code",
   "execution_count": 8,
   "metadata": {},
   "outputs": [
    {
     "data": {
      "text/html": [
       "<div>\n",
       "<style scoped>\n",
       "    .dataframe tbody tr th:only-of-type {\n",
       "        vertical-align: middle;\n",
       "    }\n",
       "\n",
       "    .dataframe tbody tr th {\n",
       "        vertical-align: top;\n",
       "    }\n",
       "\n",
       "    .dataframe thead th {\n",
       "        text-align: right;\n",
       "    }\n",
       "</style>\n",
       "<table border=\"1\" class=\"dataframe\">\n",
       "  <thead>\n",
       "    <tr style=\"text-align: right;\">\n",
       "      <th></th>\n",
       "      <th>Injury.Severity</th>\n",
       "      <th>Total.Fatal.Injuries</th>\n",
       "    </tr>\n",
       "  </thead>\n",
       "  <tbody>\n",
       "    <tr>\n",
       "      <th>0</th>\n",
       "      <td>Fatal(2)</td>\n",
       "      <td>2.0</td>\n",
       "    </tr>\n",
       "    <tr>\n",
       "      <th>1</th>\n",
       "      <td>Fatal(4)</td>\n",
       "      <td>4.0</td>\n",
       "    </tr>\n",
       "    <tr>\n",
       "      <th>2</th>\n",
       "      <td>Fatal(3)</td>\n",
       "      <td>3.0</td>\n",
       "    </tr>\n",
       "    <tr>\n",
       "      <th>3</th>\n",
       "      <td>Fatal(2)</td>\n",
       "      <td>2.0</td>\n",
       "    </tr>\n",
       "    <tr>\n",
       "      <th>4</th>\n",
       "      <td>Fatal(1)</td>\n",
       "      <td>1.0</td>\n",
       "    </tr>\n",
       "    <tr>\n",
       "      <th>5</th>\n",
       "      <td>Non-Fatal</td>\n",
       "      <td>NaN</td>\n",
       "    </tr>\n",
       "    <tr>\n",
       "      <th>6</th>\n",
       "      <td>Fatal(4)</td>\n",
       "      <td>4.0</td>\n",
       "    </tr>\n",
       "    <tr>\n",
       "      <th>7</th>\n",
       "      <td>Non-Fatal</td>\n",
       "      <td>0.0</td>\n",
       "    </tr>\n",
       "    <tr>\n",
       "      <th>8</th>\n",
       "      <td>Non-Fatal</td>\n",
       "      <td>0.0</td>\n",
       "    </tr>\n",
       "    <tr>\n",
       "      <th>9</th>\n",
       "      <td>Non-Fatal</td>\n",
       "      <td>0.0</td>\n",
       "    </tr>\n",
       "    <tr>\n",
       "      <th>10</th>\n",
       "      <td>Non-Fatal</td>\n",
       "      <td>0.0</td>\n",
       "    </tr>\n",
       "  </tbody>\n",
       "</table>\n",
       "</div>"
      ],
      "text/plain": [
       "   Injury.Severity  Total.Fatal.Injuries\n",
       "0         Fatal(2)                   2.0\n",
       "1         Fatal(4)                   4.0\n",
       "2         Fatal(3)                   3.0\n",
       "3         Fatal(2)                   2.0\n",
       "4         Fatal(1)                   1.0\n",
       "5        Non-Fatal                   NaN\n",
       "6         Fatal(4)                   4.0\n",
       "7        Non-Fatal                   0.0\n",
       "8        Non-Fatal                   0.0\n",
       "9        Non-Fatal                   0.0\n",
       "10       Non-Fatal                   0.0"
      ]
     },
     "execution_count": 8,
     "metadata": {},
     "output_type": "execute_result"
    }
   ],
   "source": [
    "#slicing the first 10 rows of the Injury Severity and the Total fatal injuries columns\n",
    "df.loc[:10, ['Injury.Severity', 'Total.Fatal.Injuries']]"
   ]
  },
  {
   "cell_type": "markdown",
   "metadata": {},
   "source": [
    "We can see that the rows where the value is `Non-fatal` in `Injury.Severity` the value in `Total.Fatal.Injuries` is either `0.0` or `NaN`\n",
    "let's replace the `NaN`s in this column and all our numeric columns with placeholder- `0.0` to match the rest of the values."
   ]
  },
  {
   "cell_type": "code",
   "execution_count": 9,
   "metadata": {},
   "outputs": [],
   "source": [
    "# filling the numeric columns where there are missing values with 0\n",
    "df[['Total.Uninjured', 'Total.Minor.Injuries', 'Total.Serious.Injuries', 'Number.of.Engines','Total.Fatal.Injuries']] = df[\n",
    "    ['Total.Uninjured', 'Total.Minor.Injuries', 'Total.Serious.Injuries', 'Number.of.Engines','Total.Fatal.Injuries']].fillna(0.0)\n"
   ]
  },
  {
   "cell_type": "markdown",
   "metadata": {},
   "source": [
    "We'll deal with the non-numeric columns similarily by filling the missing values with `unknown` as a placeholder"
   ]
  },
  {
   "cell_type": "code",
   "execution_count": 10,
   "metadata": {},
   "outputs": [],
   "source": [
    "# filling the missing values with 'unknown' for the non numeric columns\n",
    "df[['Purpose.of.flight', 'Engine.Type', 'Broad.phase.of.flight', 'Aircraft.Category']] = df[\n",
    "    ['Purpose.of.flight', 'Engine.Type', 'Broad.phase.of.flight', 'Aircraft.Category']].fillna('unknown')\n",
    "\n",
    "#we notice that weather condition has a UNK value representing Unknown, so we will fill the missing values with `UNK`\n",
    "df['Weather.Condition'] = df['Weather.Condition'].fillna('UNK')\n"
   ]
  },
  {
   "cell_type": "markdown",
   "metadata": {},
   "source": [
    "Now that we have deallt with the missing values by: \n",
    "- deleting rows\n",
    "- deleting columns\n",
    "- replacing them in non numeric columns with `unknown`\n",
    "- replacing them in numeric columns with 0 to represent no injuries\n",
    "\n",
    "let's now confirm if we have any missing values remaining"
   ]
  },
  {
   "cell_type": "code",
   "execution_count": 11,
   "metadata": {},
   "outputs": [
    {
     "data": {
      "text/plain": [
       "0"
      ]
     },
     "execution_count": 11,
     "metadata": {},
     "output_type": "execute_result"
    }
   ],
   "source": [
    "#checking for missing values\n",
    "df.isna().sum().sum()"
   ]
  },
  {
   "cell_type": "markdown",
   "metadata": {},
   "source": [
    "Since we are interested in our `Make` column, let's take a look at the values in the column"
   ]
  },
  {
   "cell_type": "code",
   "execution_count": 12,
   "metadata": {},
   "outputs": [
    {
     "data": {
      "text/plain": [
       "0                           Stinson\n",
       "1                             Piper\n",
       "2                            Cessna\n",
       "3                          Rockwell\n",
       "4                            Cessna\n",
       "                    ...            \n",
       "88869                         PIPER\n",
       "88873            CIRRUS DESIGN CORP\n",
       "88876                    SWEARINGEN\n",
       "88877                        CESSNA\n",
       "88886    AMERICAN CHAMPION AIRCRAFT\n",
       "Name: Make, Length: 80367, dtype: object"
      ]
     },
     "execution_count": 12,
     "metadata": {},
     "output_type": "execute_result"
    }
   ],
   "source": [
    "df['Make']"
   ]
  },
  {
   "cell_type": "markdown",
   "metadata": {},
   "source": [
    "Notice that we have similar values but some are in lower case and others in upper case, let's then convert all our values to lowercase for better analysis"
   ]
  },
  {
   "cell_type": "code",
   "execution_count": 13,
   "metadata": {},
   "outputs": [
    {
     "data": {
      "text/plain": [
       "cessna               26758\n",
       "piper                14682\n",
       "beech                 5268\n",
       "bell                  1706\n",
       "boeing                1406\n",
       "                     ...  \n",
       "longjev                  1\n",
       "townson                  1\n",
       "michael adamczyk         1\n",
       "darren m. vinelli        1\n",
       "mccomb                   1\n",
       "Name: Make, Length: 6957, dtype: int64"
      ]
     },
     "execution_count": 13,
     "metadata": {},
     "output_type": "execute_result"
    }
   ],
   "source": [
    "#converting all values in the `Make` column to lower case\n",
    "df['Make'] = df['Make'].str.lower()\n",
    "\n",
    "#set the `Model` column to upper case to avoid the same issue\n",
    "df['Model'] = df['Model'].str.upper()\n",
    "\n",
    "#set the `Weather.Condition` column to upper case\n",
    "df['Weather.Condition'] = df['Weather.Condition'].str.upper()\n",
    "\n",
    "#confirming it worked\n",
    "df['Make'].value_counts()"
   ]
  },
  {
   "cell_type": "markdown",
   "metadata": {},
   "source": [
    "Convert Data Types: Ensure date columns are in datetime format and numeric columns are in the right data type"
   ]
  },
  {
   "cell_type": "code",
   "execution_count": 14,
   "metadata": {},
   "outputs": [],
   "source": [
    "#convert to date-time datatype format\n",
    "df['Event.Date'] = pd.to_datetime(df['Event.Date'])\n",
    "#convert to numeric datatype and setting any non-numeric values to NaN if any\n",
    "df['Total.Fatal.Injuries'] = pd.to_numeric(df['Total.Fatal.Injuries'], errors='coerce')                      "
   ]
  },
  {
   "cell_type": "code",
   "execution_count": null,
   "metadata": {},
   "outputs": [],
   "source": []
  },
  {
   "cell_type": "markdown",
   "metadata": {},
   "source": [
    "Create a new column that will sum up `Total.Fatal.Injuries`, `Total.Serious.Injuries`  and `Total.Minor.Injuries` to make `Total.Injuries`."
   ]
  },
  {
   "cell_type": "code",
   "execution_count": 15,
   "metadata": {},
   "outputs": [],
   "source": [
    "#creating a new column to sum all the total injuries\n",
    "df['Total.Injuries'] = df['Total.Fatal.Injuries'] + df['Total.Serious.Injuries'] + df['Total.Minor.Injuries']"
   ]
  },
  {
   "cell_type": "markdown",
   "metadata": {},
   "source": [
    "##  Data Analysis"
   ]
  },
  {
   "cell_type": "markdown",
   "metadata": {},
   "source": [
    "We can look at the statistical computations of our numerical columns data by using the `.describe()` function"
   ]
  },
  {
   "cell_type": "code",
   "execution_count": 16,
   "metadata": {},
   "outputs": [
    {
     "data": {
      "text/html": [
       "<div>\n",
       "<style scoped>\n",
       "    .dataframe tbody tr th:only-of-type {\n",
       "        vertical-align: middle;\n",
       "    }\n",
       "\n",
       "    .dataframe tbody tr th {\n",
       "        vertical-align: top;\n",
       "    }\n",
       "\n",
       "    .dataframe thead th {\n",
       "        text-align: right;\n",
       "    }\n",
       "</style>\n",
       "<table border=\"1\" class=\"dataframe\">\n",
       "  <thead>\n",
       "    <tr style=\"text-align: right;\">\n",
       "      <th></th>\n",
       "      <th>Number.of.Engines</th>\n",
       "      <th>Total.Fatal.Injuries</th>\n",
       "      <th>Total.Serious.Injuries</th>\n",
       "      <th>Total.Minor.Injuries</th>\n",
       "      <th>Total.Uninjured</th>\n",
       "      <th>Total.Injuries</th>\n",
       "    </tr>\n",
       "  </thead>\n",
       "  <tbody>\n",
       "    <tr>\n",
       "      <th>count</th>\n",
       "      <td>80367.000000</td>\n",
       "      <td>80367.000000</td>\n",
       "      <td>80367.000000</td>\n",
       "      <td>80367.000000</td>\n",
       "      <td>80367.000000</td>\n",
       "      <td>80367.000000</td>\n",
       "    </tr>\n",
       "    <tr>\n",
       "      <th>mean</th>\n",
       "      <td>1.081078</td>\n",
       "      <td>0.574066</td>\n",
       "      <td>0.228191</td>\n",
       "      <td>0.303470</td>\n",
       "      <td>3.323653</td>\n",
       "      <td>1.105727</td>\n",
       "    </tr>\n",
       "    <tr>\n",
       "      <th>std</th>\n",
       "      <td>0.466130</td>\n",
       "      <td>5.024283</td>\n",
       "      <td>1.425118</td>\n",
       "      <td>2.133424</td>\n",
       "      <td>20.825455</td>\n",
       "      <td>5.985901</td>\n",
       "    </tr>\n",
       "    <tr>\n",
       "      <th>min</th>\n",
       "      <td>0.000000</td>\n",
       "      <td>0.000000</td>\n",
       "      <td>0.000000</td>\n",
       "      <td>0.000000</td>\n",
       "      <td>0.000000</td>\n",
       "      <td>0.000000</td>\n",
       "    </tr>\n",
       "    <tr>\n",
       "      <th>25%</th>\n",
       "      <td>1.000000</td>\n",
       "      <td>0.000000</td>\n",
       "      <td>0.000000</td>\n",
       "      <td>0.000000</td>\n",
       "      <td>0.000000</td>\n",
       "      <td>0.000000</td>\n",
       "    </tr>\n",
       "    <tr>\n",
       "      <th>50%</th>\n",
       "      <td>1.000000</td>\n",
       "      <td>0.000000</td>\n",
       "      <td>0.000000</td>\n",
       "      <td>0.000000</td>\n",
       "      <td>1.000000</td>\n",
       "      <td>0.000000</td>\n",
       "    </tr>\n",
       "    <tr>\n",
       "      <th>75%</th>\n",
       "      <td>1.000000</td>\n",
       "      <td>0.000000</td>\n",
       "      <td>0.000000</td>\n",
       "      <td>0.000000</td>\n",
       "      <td>2.000000</td>\n",
       "      <td>1.000000</td>\n",
       "    </tr>\n",
       "    <tr>\n",
       "      <th>max</th>\n",
       "      <td>8.000000</td>\n",
       "      <td>295.000000</td>\n",
       "      <td>161.000000</td>\n",
       "      <td>380.000000</td>\n",
       "      <td>699.000000</td>\n",
       "      <td>380.000000</td>\n",
       "    </tr>\n",
       "  </tbody>\n",
       "</table>\n",
       "</div>"
      ],
      "text/plain": [
       "       Number.of.Engines  Total.Fatal.Injuries  Total.Serious.Injuries  \\\n",
       "count       80367.000000          80367.000000            80367.000000   \n",
       "mean            1.081078              0.574066                0.228191   \n",
       "std             0.466130              5.024283                1.425118   \n",
       "min             0.000000              0.000000                0.000000   \n",
       "25%             1.000000              0.000000                0.000000   \n",
       "50%             1.000000              0.000000                0.000000   \n",
       "75%             1.000000              0.000000                0.000000   \n",
       "max             8.000000            295.000000              161.000000   \n",
       "\n",
       "       Total.Minor.Injuries  Total.Uninjured  Total.Injuries  \n",
       "count          80367.000000     80367.000000    80367.000000  \n",
       "mean               0.303470         3.323653        1.105727  \n",
       "std                2.133424        20.825455        5.985901  \n",
       "min                0.000000         0.000000        0.000000  \n",
       "25%                0.000000         0.000000        0.000000  \n",
       "50%                0.000000         1.000000        0.000000  \n",
       "75%                0.000000         2.000000        1.000000  \n",
       "max              380.000000       699.000000      380.000000  "
      ]
     },
     "execution_count": 16,
     "metadata": {},
     "output_type": "execute_result"
    }
   ],
   "source": [
    "df.describe()"
   ]
  },
  {
   "cell_type": "markdown",
   "metadata": {},
   "source": [
    "From the data above we can find the mean, standard deviation, the minimum & maximum values and the quatile values.\n",
    "okay, let's find the most common aircraft make that has experienced most accidents in our data."
   ]
  },
  {
   "cell_type": "code",
   "execution_count": 17,
   "metadata": {},
   "outputs": [
    {
     "data": {
      "text/plain": [
       "0    cessna\n",
       "dtype: object"
      ]
     },
     "execution_count": 17,
     "metadata": {},
     "output_type": "execute_result"
    }
   ],
   "source": [
    "#finding the mode of the `make` column\n",
    "df['Make'].mode()"
   ]
  },
  {
   "cell_type": "markdown",
   "metadata": {},
   "source": [
    "### Data Visualization"
   ]
  },
  {
   "cell_type": "markdown",
   "metadata": {},
   "source": [
    "#### Aircraft Damage vs Total Injuries"
   ]
  },
  {
   "cell_type": "markdown",
   "metadata": {},
   "source": [
    "In this visualization we want to see how the level of `Aircraft.damage` relates `Total.Injuries`"
   ]
  },
  {
   "cell_type": "code",
   "execution_count": 18,
   "metadata": {},
   "outputs": [
    {
     "data": {
      "image/png": "[encoded data removed]",
      "text/plain": [
       "<Figure size 720x432 with 1 Axes>"
      ]
     },
     "metadata": {
      "needs_background": "light"
     },
     "output_type": "display_data"
    }
   ],
   "source": [
    "# Create a pivot table\n",
    "pivot_table = df.pivot_table(values='Total.Injuries', index='Aircraft.damage', aggfunc='sum')\n",
    "\n",
    "# Reset the index for better plotting\n",
    "pivot_table = pivot_table.reset_index()\n",
    "\n",
    "# Create a bar plot\n",
    "plt.figure(figsize=(10, 6))\n",
    "sns.barplot(data=pivot_table, x='Aircraft.damage', y='Total.Injuries')\n",
    "plt.title('Total Injuries by Aircraft Damage')\n",
    "plt.xlabel('Aircraft Damage')\n",
    "plt.ylabel('Total Injuries');"
   ]
  },
  {
   "cell_type": "markdown",
   "metadata": {},
   "source": [
    "As expected, We can see that the Destroyed Aircrafts had the most Injuries, followed by the more substantial Damage, the Minor damage also resulted in less injuries which are highly likely the minor ones and the unknown values with close to 0 injuries\n",
    "\n",
    "### Risk based on the Make and Model that have mostly encountered Accidents\n",
    "\n",
    "Now, let's look at what `Make` of aircrafts have a record of the highest accident rate. We'll group by  `Make` and `Model` and count the `Accident.Number` occurances to see how many accidents a specific make has encountered."
   ]
  },
  {
   "cell_type": "code",
   "execution_count": 19,
   "metadata": {},
   "outputs": [
    {
     "data": {
      "image/png": "[encoded data removed]",
      "text/plain": [
       "<Figure size 864x432 with 1 Axes>"
      ]
     },
     "metadata": {
      "needs_background": "light"
     },
     "output_type": "display_data"
    },
    {
     "data": {
      "image/png": "[encoded data removed]",
      "text/plain": [
       "<Figure size 864x432 with 1 Axes>"
      ]
     },
     "metadata": {
      "needs_background": "light"
     },
     "output_type": "display_data"
    }
   ],
   "source": [
    "accident_counts = df.groupby(['Make', 'Model'])['Accident.Number'].nunique().reset_index()\n",
    "\n",
    "# Rename the column\n",
    "accident_counts= accident_counts.rename(columns={'Accident.Number': 'Accident.Count'})\n",
    "\n",
    "# Get the top 10 most common Make and Model\n",
    "top_10_common = accident_counts.nlargest(10, 'Accident.Count')\n",
    "\n",
    "# Get the bottom 10 least common Make and Model\n",
    "bottom_10_common = accident_counts.nsmallest(10, 'Accident.Count')\n",
    "\n",
    "# Plot the top 10 most common\n",
    "plt.figure(figsize=(12, 6))\n",
    "sns.barplot(data=top_10_common, x='Make', y='Accident.Count', hue='Model')\n",
    "plt.title('Top 10 Most Common Aircraft Makes and Models Involved in Accidents')\n",
    "plt.xlabel('Aircraft Make and Model')\n",
    "plt.ylabel('Number of Accidents')\n",
    "plt.legend(title='Model', loc='upper right');\n",
    "\n",
    "# Plot the bottom 10 least common\n",
    "plt.figure(figsize=(12, 6))\n",
    "sns.barplot(data=bottom_10_common, x='Accident.Count', y='Make', hue='Model')\n",
    "plt.title('Bottom 10 Least Common Aircraft Makes and Models Involved in Accidents')\n",
    "plt.xlabel('Number of Accidents')\n",
    "plt.ylabel('Aircraft Make and Model')\n",
    "plt.legend(title='Model', loc='upper right');"
   ]
  },
  {
   "cell_type": "markdown",
   "metadata": {},
   "source": [
    "Let's break it down a little more to just the Aircraft `Make` without being more specific on the `Model`"
   ]
  },
  {
   "cell_type": "code",
   "execution_count": 20,
   "metadata": {},
   "outputs": [
    {
     "data": {
      "image/png": "[encoded data removed]",
      "text/plain": [
       "<Figure size 864x432 with 1 Axes>"
      ]
     },
     "metadata": {
      "needs_background": "light"
     },
     "output_type": "display_data"
    },
    {
     "data": {
      "image/png": "[encoded data removed]",
      "text/plain": [
       "<Figure size 864x432 with 1 Axes>"
      ]
     },
     "metadata": {
      "needs_background": "light"
     },
     "output_type": "display_data"
    }
   ],
   "source": [
    "accident_counts = df.groupby('Make')['Accident.Number'].nunique().reset_index()\n",
    "\n",
    "# Rename the column \n",
    "accident_counts.rename(columns={'Accident.Number': 'Accident.Count'}, inplace=True)\n",
    "\n",
    "# Get the top 10 most common Makes\n",
    "top_10_common = accident_counts.nlargest(10, 'Accident.Count')\n",
    "\n",
    "# Get the bottom 10 least common Makes\n",
    "bottom_10_common = accident_counts.nsmallest(10, 'Accident.Count')\n",
    "\n",
    "# Plot the top 10 most common Makes\n",
    "plt.figure(figsize=(12, 6))\n",
    "sns.barplot(data=top_10_common, x='Make', y='Accident.Count')\n",
    "plt.title('Top 10 Most Common Aircraft Makes Involved in Accidents')\n",
    "plt.xlabel('Aircraft Make')\n",
    "plt.ylabel('Number of Accidents');\n",
    "\n",
    "# Plot the bottom 10 least common Makes\n",
    "plt.figure(figsize=(12, 6))\n",
    "sns.barplot(data=bottom_10_common, x='Accident.Count', y='Make')\n",
    "plt.title('Bottom 10 Least Common Aircraft Makes Involved in Accidents')\n",
    "plt.xlabel('Number of Accidents')\n",
    "plt.ylabel('Aircraft Make');"
   ]
  },
  {
   "cell_type": "code",
   "execution_count": 21,
   "metadata": {},
   "outputs": [
    {
     "data": {
      "text/plain": [
       "6957"
      ]
     },
     "execution_count": 21,
     "metadata": {},
     "output_type": "execute_result"
    }
   ],
   "source": [
    "len(accident_counts == 1)"
   ]
  },
  {
   "cell_type": "markdown",
   "metadata": {},
   "source": [
    "From the visualizations above, we can tell that there are 6957 Aircraft makes and models that have encountered an accident just once over the period. However, when we look at the `Top 10 Most Common Aircraft Makes and Models Involved in Accidents`bargraph we see that there are 2 top Make which are `Cessna` and `Piper` that have encountered numerous accidents even with different Model types. Therefore we see that the type of `Make` and `Model` of the Aircraft to be purchased needs to be considered wisely before purchase."
   ]
  },
  {
   "cell_type": "code",
   "execution_count": 22,
   "metadata": {},
   "outputs": [
    {
     "data": {
      "text/html": [
       "<div>\n",
       "<style scoped>\n",
       "    .dataframe tbody tr th:only-of-type {\n",
       "        vertical-align: middle;\n",
       "    }\n",
       "\n",
       "    .dataframe tbody tr th {\n",
       "        vertical-align: top;\n",
       "    }\n",
       "\n",
       "    .dataframe thead th {\n",
       "        text-align: right;\n",
       "    }\n",
       "</style>\n",
       "<table border=\"1\" class=\"dataframe\">\n",
       "  <thead>\n",
       "    <tr style=\"text-align: right;\">\n",
       "      <th></th>\n",
       "      <th>Make</th>\n",
       "      <th>Accident.Count</th>\n",
       "    </tr>\n",
       "  </thead>\n",
       "  <tbody>\n",
       "    <tr>\n",
       "      <th>0</th>\n",
       "      <td>107.5 flying corporation</td>\n",
       "      <td>1</td>\n",
       "    </tr>\n",
       "    <tr>\n",
       "      <th>1</th>\n",
       "      <td>177mf llc</td>\n",
       "      <td>1</td>\n",
       "    </tr>\n",
       "    <tr>\n",
       "      <th>2</th>\n",
       "      <td>1977 colfer-chan</td>\n",
       "      <td>1</td>\n",
       "    </tr>\n",
       "    <tr>\n",
       "      <th>3</th>\n",
       "      <td>1st ftr gp</td>\n",
       "      <td>1</td>\n",
       "    </tr>\n",
       "    <tr>\n",
       "      <th>4</th>\n",
       "      <td>2001 mcgirl</td>\n",
       "      <td>1</td>\n",
       "    </tr>\n",
       "    <tr>\n",
       "      <th>...</th>\n",
       "      <td>...</td>\n",
       "      <td>...</td>\n",
       "    </tr>\n",
       "    <tr>\n",
       "      <th>6952</th>\n",
       "      <td>zubair s khan</td>\n",
       "      <td>1</td>\n",
       "    </tr>\n",
       "    <tr>\n",
       "      <th>6953</th>\n",
       "      <td>zuber thomas p</td>\n",
       "      <td>1</td>\n",
       "    </tr>\n",
       "    <tr>\n",
       "      <th>6954</th>\n",
       "      <td>zukowski</td>\n",
       "      <td>1</td>\n",
       "    </tr>\n",
       "    <tr>\n",
       "      <th>6955</th>\n",
       "      <td>zwart</td>\n",
       "      <td>1</td>\n",
       "    </tr>\n",
       "    <tr>\n",
       "      <th>6956</th>\n",
       "      <td>zwicker murray r</td>\n",
       "      <td>1</td>\n",
       "    </tr>\n",
       "  </tbody>\n",
       "</table>\n",
       "<p>6957 rows × 2 columns</p>\n",
       "</div>"
      ],
      "text/plain": [
       "                          Make  Accident.Count\n",
       "0     107.5 flying corporation               1\n",
       "1                    177mf llc               1\n",
       "2             1977 colfer-chan               1\n",
       "3                   1st ftr gp               1\n",
       "4                  2001 mcgirl               1\n",
       "...                        ...             ...\n",
       "6952             zubair s khan               1\n",
       "6953            zuber thomas p               1\n",
       "6954                  zukowski               1\n",
       "6955                     zwart               1\n",
       "6956          zwicker murray r               1\n",
       "\n",
       "[6957 rows x 2 columns]"
      ]
     },
     "execution_count": 22,
     "metadata": {},
     "output_type": "execute_result"
    }
   ],
   "source": [
    "accident_counts"
   ]
  },
  {
   "cell_type": "markdown",
   "metadata": {},
   "source": [
    "### Risk based on number of engines in an aircraft"
   ]
  },
  {
   "cell_type": "markdown",
   "metadata": {},
   "source": [
    "Let's plot a histogram to show us the number of occurences of accidents with the various engine counts in order to see the distribution. We'll group the data into a smaller dataframe with `Number.of.Engines` `value_counts` then visualize it."
   ]
  },
  {
   "cell_type": "code",
   "execution_count": 23,
   "metadata": {},
   "outputs": [
    {
     "data": {
      "image/png": "[encoded data removed]",
      "text/plain": [
       "<Figure size 720x432 with 1 Axes>"
      ]
     },
     "metadata": {
      "needs_background": "light"
     },
     "output_type": "display_data"
    }
   ],
   "source": [
    "# Group by the number of engines and count the occurrences\n",
    "engine_counts = df['Number.of.Engines'].value_counts().reset_index()\n",
    "engine_counts.columns = ['Number of Engines', 'Count']\n",
    "\n",
    "# Create a histogram\n",
    "plt.figure(figsize=(10, 6))\n",
    "sns.histplot(data=engine_counts, x='Number of Engines', weights='Count', bins=7, discrete=True)\n",
    "plt.title('Histogram of Number of Engines Involved in Accidents')\n",
    "plt.xlabel('Number of Engines')\n",
    "plt.ylabel('Count of Accidents');"
   ]
  },
  {
   "cell_type": "markdown",
   "metadata": {},
   "source": [
    "The visualization above gives us unexpected outcomes given that the majority aircrafts with 1 engine have encountered most of aircraft accidents and the risk of accidents reduces as the aircraft number of engines increases. \n",
    "\n",
    "Below let's look at whether the number of engines relates to the level of injury:"
   ]
  },
  {
   "cell_type": "code",
   "execution_count": 24,
   "metadata": {},
   "outputs": [
    {
     "data": {
      "image/png": "[encoded data removed]",
      "text/plain": [
       "<Figure size 864x576 with 1 Axes>"
      ]
     },
     "metadata": {
      "needs_background": "light"
     },
     "output_type": "display_data"
    }
   ],
   "source": [
    "df.pivot_table(index='Number.of.Engines' , values=\n",
    "               ['Total.Minor.Injuries','Total.Serious.Injuries','Total.Fatal.Injuries'],\n",
    "               aggfunc=sum ).plot(figsize=(12,8))\n",
    "\n",
    "plt.title('Comparison of Injuries levels based on Number of Engines')\n",
    "plt.xlabel('Number of Engines')\n",
    "plt.ylabel('Total Number');"
   ]
  },
  {
   "cell_type": "markdown",
   "metadata": {},
   "source": [
    "We can still see that the majority aircrafts with 1 engine have encountered most fatal injuries and the level of injury severity decreases with increase in engine type. Also, see that aircrafts with 2 engines and above have a lower risk of close to 0 of causing injuries."
   ]
  },
  {
   "cell_type": "markdown",
   "metadata": {},
   "source": [
    "### Trend of Total Injuries Over Time\n",
    "We can plot a line plot showing the trend of total injuries over the years can help identify whether accidents are becoming more or less severe over time."
   ]
  },
  {
   "cell_type": "code",
   "execution_count": 25,
   "metadata": {},
   "outputs": [
    {
     "data": {
      "image/png": "[encoded data removed]",
      "text/plain": [
       "<Figure size 864x432 with 1 Axes>"
      ]
     },
     "metadata": {
      "needs_background": "light"
     },
     "output_type": "display_data"
    }
   ],
   "source": [
    "# First, extract year from the Event.Date\n",
    "df['Year'] = df['Event.Date'].dt.year\n",
    "injury_trend = df.groupby('Year')['Total.Injuries'].sum().reset_index()\n",
    "\n",
    "plt.figure(figsize=(12, 6))\n",
    "sns.lineplot(data=injury_trend, x='Year', y='Total.Injuries')\n",
    "plt.title('Total Injuries Over Time')\n",
    "plt.xlabel('Year')\n",
    "plt.ylabel('Total Injuries')\n",
    "plt.xticks(rotation=45)\n",
    "plt.show()"
   ]
  },
  {
   "cell_type": "markdown",
   "metadata": {},
   "source": [
    "We notice that the total injuries over time increased in 1981 which keeps on flactuating over time from there."
   ]
  },
  {
   "cell_type": "markdown",
   "metadata": {},
   "source": [
    "### Trend of Accidents by different weather conditions\n",
    "let's make a lineplot to examine the relationship between weather conditions and the number of accidents in our data"
   ]
  },
  {
   "cell_type": "code",
   "execution_count": 26,
   "metadata": {},
   "outputs": [
    {
     "data": {
      "image/png": "[encoded data removed]",
      "text/plain": [
       "<Figure size 864x432 with 1 Axes>"
      ]
     },
     "metadata": {
      "needs_background": "light"
     },
     "output_type": "display_data"
    }
   ],
   "source": [
    "#group by weather\n",
    "accident_by_weather = df.groupby(['Weather.Condition'])['Accident.Number'].nunique()\n",
    "\n",
    "#plot the lineplot for Accidents by weather\n",
    "plt.figure(figsize=(12, 6))\n",
    "sns.lineplot(data=accident_by_weather)\n",
    "plt.title('Number of Accidents by Weather Condition')\n",
    "plt.ylabel('Number of Accidents')\n",
    "plt.xlabel('Weather Condition');"
   ]
  },
  {
   "cell_type": "markdown",
   "metadata": {},
   "source": [
    "Now, we'll save the cleaned data frame `df` to a csv file named `AviationData_clean.csv` to use in further visualizations in Tableau"
   ]
  },
  {
   "cell_type": "code",
   "execution_count": 27,
   "metadata": {},
   "outputs": [],
   "source": [
    "#save the cleaned data to a csv file without including the index\n",
    "df.to_csv('AviationData_clean.csv', index=False)"
   ]
  },
  {
   "cell_type": "markdown",
   "metadata": {},
   "source": [
    "## Conclusion"
   ]
  },
  {
   "cell_type": "markdown",
   "metadata": {},
   "source": [
    "In this analysis of aviation accident data from 1962 to 2023, we explored various risk factors that correlate with accident rates, focusing on identifying low-risk aircraft for potential investment. The findings can be summarized as follows:\n",
    "\n",
    "We've been able to see that a large number of our aircraft Make and Model have recorded low accident rates and we have been able to identify what aircraft Make to avoid, the top two being *Cessna* and *Piper* while investing in aircrafts. \n",
    "We have also discovered that besides the Make of the Aircraft, that other factors such as Number of Engines and weather contribute to the risk of accidents occuring to aircrafts."
   ]
  },
  {
   "cell_type": "markdown",
   "metadata": {},
   "source": [
    "Based on these insights, it is recommended that the aviation division prioritize the acquisition of aircraft from categories with historically lower accident rates and develop strategies to mitigate risks associated with weather conditions."
   ]
  }
 ],
 "metadata": {
  "kernelspec": {
   "display_name": "Python (learn-env)",
   "language": "python",
   "name": "learn-env"
  },
  "language_info": {
   "codemirror_mode": {
    "name": "ipython",
    "version": 3
   },
   "file_extension": ".py",
   "mimetype": "text/x-python",
   "name": "python",
   "nbconvert_exporter": "python",
   "pygments_lexer": "ipython3",
   "version": "3.8.5"
  }
 },
 "nbformat": 4,
 "nbformat_minor": 4
}
